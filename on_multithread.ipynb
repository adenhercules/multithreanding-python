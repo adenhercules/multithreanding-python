{
 "cells": [
  {
   "cell_type": "code",
   "execution_count": null,
   "metadata": {},
   "outputs": [
    {
     "ename": "",
     "evalue": "",
     "output_type": "error",
     "traceback": [
      "\u001b[1;31mRunning cells with 'Python 3.10.5 64-bit' requires ipykernel package.\n",
      "Run the following command to install 'ipykernel' into the Python environment. \n",
      "Command: 'c:/Python310/python.exe -m pip install ipykernel -U --user --force-reinstall'"
     ]
    }
   ],
   "source": [
    "import requests\n",
    "import time\n",
    "import threading"
   ]
  },
  {
   "cell_type": "code",
   "execution_count": null,
   "metadata": {},
   "outputs": [
    {
     "ename": "",
     "evalue": "",
     "output_type": "error",
     "traceback": [
      "\u001b[1;31mRunning cells with 'Python 3.10.5 64-bit' requires ipykernel package.\n",
      "Run the following command to install 'ipykernel' into the Python environment. \n",
      "Command: 'c:/Python310/python.exe -m pip install ipykernel -U --user --force-reinstall'"
     ]
    }
   ],
   "source": [
    "urls = [\n",
    "     'https://images.pexels.com/photos/305821/pexels-photo-305821.jpeg',\n",
    "     'https://images.pexels.com/photos/509922/pexels-photo-509922.jpeg',\n",
    "     'https://images.pexels.com/photos/325812/pexels-photo-325812.jpeg',\n",
    "     'https://images.pexels.com/photos/1252814/pexels-photo-1252814.jpeg',\n",
    "     'https://images.pexels.com/photos/1420709/pexels-photo-1420709.jpeg',\n",
    "     'https://images.pexels.com/photos/963486/pexels-photo-963486.jpeg',\n",
    "     'https://images.pexels.com/photos/1557183/pexels-photo-1557183.jpeg',\n",
    "     'https://images.pexels.com/photos/3023211/pexels-photo-3023211.jpeg',\n",
    "     'https://images.pexels.com/photos/1031641/pexels-photo-1031641.jpeg',\n",
    "     'https://images.pexels.com/photos/439227/pexels-photo-439227.jpeg',\n",
    "     'https://images.pexels.com/photos/696644/pexels-photo-696644.jpeg',\n",
    "     'https://images.pexels.com/photos/911254/pexels-photo-911254.jpeg',\n",
    "     'https://images.pexels.com/photos/1001990/pexels-photo-1001990.jpeg',\n",
    "     'https://images.pexels.com/photos/3518623/pexels-photo-3518623.jpeg',\n",
    "     'https://images.pexels.com/photos/916044/pexels-photo-916044.jpeg' \n",
    "]"
   ]
  },
  {
   "cell_type": "code",
   "execution_count": null,
   "metadata": {},
   "outputs": [
    {
     "ename": "",
     "evalue": "",
     "output_type": "error",
     "traceback": [
      "\u001b[1;31mRunning cells with 'Python 3.10.5 64-bit' requires ipykernel package.\n",
      "Run the following command to install 'ipykernel' into the Python environment. \n",
      "Command: 'c:/Python310/python.exe -m pip install ipykernel -U --user --force-reinstall'"
     ]
    }
   ],
   "source": [
    "def download(url):\n",
    "    img_data = requests.get(url).content\n",
    "    img_name = url.split('/')[4]\n",
    "    img_name = f'{img_name}.jpg'\n",
    "    with open(img_name, 'wb') as img_file:\n",
    "        img_file.write(img_data)\n",
    "        print(f'downloading {img_name}')\n",
    "  "
   ]
  },
  {
   "cell_type": "code",
   "execution_count": 4,
   "metadata": {},
   "outputs": [
    {
     "name": "stdout",
     "output_type": "stream",
     "text": [
      "Waiting for 1 second(s)Active Threads: 9\n",
      "\n",
      "Done Waiting 1  second(s)\n",
      "Finished in 1.0 second(s)\n"
     ]
    }
   ],
   "source": [
    "def useless_function(seconds):\n",
    "     print(f'Waiting for {seconds} second(s)', end = \"\\n\")\n",
    "     time.sleep(seconds)\n",
    "     print(f'Done Waiting {seconds}  second(s)')\n",
    "\n",
    "start = time.perf_counter()\n",
    "t = threading.Thread(target=useless_function, args=[1])\n",
    "t.start()\n",
    "print(f'Active Threads: {threading.active_count()}')\n",
    "t.join()\n",
    "end = time.perf_counter()\n",
    "print(f'Finished in {round(end-start, 2)} second(s)') "
   ]
  },
  {
   "cell_type": "code",
   "execution_count": 39,
   "metadata": {},
   "outputs": [
    {
     "name": "stdout",
     "output_type": "stream",
     "text": [
      "Waiting for 1 second(s)Active Threads: 9\n",
      "\n",
      "Finished in 0.0 second(s)\n",
      "\n"
     ]
    }
   ],
   "source": [
    "t = threading.Thread(target=useless_function, args=[1])\n",
    "start = time.perf_counter()\n",
    "t.start()\n",
    "print(f'Active Threads: {threading.active_count()}\\n')\n",
    "end = time.perf_counter()\n",
    "print(f'Finished in {round(end-start, 2)} second(s)') "
   ]
  },
  {
   "cell_type": "code",
   "execution_count": 5,
   "metadata": {},
   "outputs": [
    {
     "name": "stdout",
     "output_type": "stream",
     "text": [
      "downloading 509922.jpg\n",
      "downloading 963486.jpg\n",
      "downloading 305821.jpg\n",
      "downloading 1001990.jpg\n",
      "downloading 3023211.jpg\n",
      "downloading 325812.jpg\n",
      "downloading 696644.jpg\n",
      "downloading 1252814.jpg\n",
      "downloading 1031641.jpg\n",
      "downloading 1557183.jpg\n",
      "downloading 1420709.jpg\n",
      "downloading 439227.jpg\n",
      "downloading 3518623.jpg\n",
      "downloading 911254.jpg\n",
      "downloading 916044.jpg\n",
      "Finished in 9.7 seconds\n"
     ]
    }
   ],
   "source": [
    "## fazer testes com fila de prioridade\n",
    "\n",
    "start = time.perf_counter()\n",
    "threads = []\n",
    "for i in urls:\n",
    "    t = threading.Thread(target=download, args=[i])\n",
    "    t.start()\n",
    "    threads.append(t)\n",
    "for thread in threads:\n",
    "    thread.join()\n",
    "finish = time.perf_counter()\n",
    "print(f'Finished in {round(finish-start, 2)} seconds') "
   ]
  }
 ],
 "metadata": {
  "kernelspec": {
   "display_name": "Python 3.10.5 64-bit",
   "language": "python",
   "name": "python3"
  },
  "language_info": {
   "codemirror_mode": {
    "name": "ipython",
    "version": 3
   },
   "file_extension": ".py",
   "mimetype": "text/x-python",
   "name": "python",
   "nbconvert_exporter": "python",
   "pygments_lexer": "ipython3",
   "version": "3.10.5"
  },
  "orig_nbformat": 4,
  "vscode": {
   "interpreter": {
    "hash": "369f2c481f4da34e4445cda3fffd2e751bd1c4d706f27375911949ba6bb62e1c"
   }
  }
 },
 "nbformat": 4,
 "nbformat_minor": 2
}
